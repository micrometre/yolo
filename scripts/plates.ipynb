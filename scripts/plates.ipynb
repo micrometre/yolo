{
 "cells": [
  {
   "cell_type": "code",
   "execution_count": null,
   "id": "b2096ef0",
   "metadata": {},
   "outputs": [],
   "source": [
    "import ast\n",
    "import cv2 as cv\n",
    "import easyocr\n",
    "from glob import glob\n",
    "import numpy as np\n",
    "import pandas as pd\n",
    "import string\n",
    "from ultralytics import YOLO"
   ]
  },
  {
   "cell_type": "code",
   "execution_count": null,
   "id": "adde236a",
   "metadata": {},
   "outputs": [],
   "source": [
    "# regular pre-trained yolov8 model for car recognition\n",
    "# coco_model = YOLO('yolov8n.pt')\n",
    "coco_model = YOLO('models/yolov8s.pt')\n",
    "# yolov8 model trained to detect number plates\n",
    "np_model = YOLO('models/best.pt')"
   ]
  },
  {
   "cell_type": "code",
   "execution_count": null,
   "id": "5ad1520a",
   "metadata": {},
   "outputs": [],
   "source": [
    "# read in test video paths\n",
    "videos = glob('videos/*.mp4')\n",
    "#videos = ['../videos/alprVideo.mp4']\n",
    "print(videos)"
   ]
  },
  {
   "cell_type": "code",
   "execution_count": null,
   "id": "b746d278",
   "metadata": {},
   "outputs": [],
   "source": [
    "# read video by index\n",
    "video = cv.VideoCapture(videos[1])\n",
    "\n",
    "ret = True\n",
    "frame_number = -1\n",
    "# all vehicle class IDs from the COCO dataset (car, motorbike, truck) https://docs.ultralytics.com/datasets/detect/coco/#dataset-yaml\n",
    "vehicles = [2,3,5]\n",
    "vehicle_bounding_boxes = []\n",
    "\n",
    "# read the 10 first frames\n",
    "while ret:\n",
    "    frame_number += 1\n",
    "    ret, frame = video.read()\n",
    "\n",
    "    if ret and frame_number < 10:\n",
    "        # use track() to identify instances and track them frame by frame\n",
    "        detections = coco_model.track(frame, persist=True)[0]\n",
    "        # save cropped detections\n",
    "        # detections.save_crop('outputs')\n",
    "        # print nodel predictions for debugging\n",
    "        # print(results)\n",
    "\n",
    "        for detection in detections.boxes.data.tolist():\n",
    "            # print detection bounding boxes for debugging\n",
    "            # print(detection)\n",
    "            x1, y1, x2, y2, track_id, score, class_id = detection\n",
    "            # I am only interested in class IDs that belong to vehicles\n",
    "            if int(class_id) in vehicles and score > 0.5:\n",
    "                vehicle_bounding_boxes.append([x1, y1, x2, y2, track_id, score])\n",
    "\n",
    "# print found bounding boxes for debugging\n",
    "print(vehicle_bounding_boxes)\n",
    "video.release()"
   ]
  },
  {
   "cell_type": "code",
   "execution_count": null,
   "id": "cdfe997b",
   "metadata": {},
   "outputs": [],
   "source": [
    "# read video by index\n",
    "video = cv.VideoCapture(videos[1])\n",
    "\n",
    "ret = True\n",
    "frame_number = -1\n",
    "# all vehicle class IDs from the COCO dataset (car, motorbike, truck) https://docs.ultralytics.com/datasets/detect/coco/#dataset-yaml\n",
    "vehicles = [2,3,5]\n",
    "vehicle_bounding_boxes = []\n",
    "\n",
    "# read the 10 first frames\n",
    "while ret:\n",
    "    frame_number += 1\n",
    "    ret, frame = video.read()\n",
    "\n",
    "    if ret and frame_number < 10:\n",
    "        # use track() to identify instances and track them frame by frame\n",
    "        detections = coco_model.track(frame, persist=True)[0]\n",
    "        # save cropped detections\n",
    "        # detections.save_crop('outputs')\n",
    "        # print nodel predictions for debugging\n",
    "        # print(results)\n",
    "\n",
    "        for detection in detections.boxes.data.tolist():\n",
    "            # print detection bounding boxes for debugging\n",
    "            # print(detection)\n",
    "            x1, y1, x2, y2, track_id, score, class_id = detection\n",
    "            # I am only interested in class IDs that belong to vehicles\n",
    "            if int(class_id) in vehicles and score > 0.5:\n",
    "                vehicle_bounding_boxes.append([x1, y1, x2, y2, track_id, score])\n",
    "\n",
    "# print found bounding boxes for debugging\n",
    "print(vehicle_bounding_boxes)\n",
    "video.release()"
   ]
  },
  {
   "cell_type": "code",
   "execution_count": 20,
   "id": "9f82dba8",
   "metadata": {},
   "outputs": [
    {
     "name": "stdout",
     "output_type": "stream",
     "text": [
      "\n",
      "0: 480x640 9 cars, 1 parking meter, 309.1ms\n",
      "Speed: 6.3ms preprocess, 309.1ms inference, 1.5ms postprocess per image at shape (1, 3, 480, 640)\n"
     ]
    },
    {
     "ename": "ValueError",
     "evalue": "not enough values to unpack (expected 7, got 6)",
     "output_type": "error",
     "traceback": [
      "\u001b[0;31m---------------------------------------------------------------------------\u001b[0m",
      "\u001b[0;31mValueError\u001b[0m                                Traceback (most recent call last)",
      "Cell \u001b[0;32mIn[20], line 18\u001b[0m\n\u001b[1;32m     16\u001b[0m detections \u001b[38;5;241m=\u001b[39m coco_model\u001b[38;5;241m.\u001b[39mtrack(frame, persist\u001b[38;5;241m=\u001b[39m\u001b[38;5;28;01mTrue\u001b[39;00m)[\u001b[38;5;241m0\u001b[39m]\n\u001b[1;32m     17\u001b[0m \u001b[38;5;28;01mfor\u001b[39;00m detection \u001b[38;5;129;01min\u001b[39;00m detections\u001b[38;5;241m.\u001b[39mboxes\u001b[38;5;241m.\u001b[39mdata\u001b[38;5;241m.\u001b[39mtolist():\n\u001b[0;32m---> 18\u001b[0m     x1, y1, x2, y2, track_id, score, class_id \u001b[38;5;241m=\u001b[39m detection\n\u001b[1;32m     19\u001b[0m     \u001b[38;5;28;01mif\u001b[39;00m \u001b[38;5;28mint\u001b[39m(class_id) \u001b[38;5;129;01min\u001b[39;00m vehicles \u001b[38;5;129;01mand\u001b[39;00m score \u001b[38;5;241m>\u001b[39m \u001b[38;5;241m0.5\u001b[39m:\n\u001b[1;32m     20\u001b[0m         vehicle_bounding_boxes \u001b[38;5;241m=\u001b[39m []\n",
      "\u001b[0;31mValueError\u001b[0m: not enough values to unpack (expected 7, got 6)"
     ]
    }
   ],
   "source": [
    "# read video by index\n",
    "video = cv.VideoCapture(videos[0])\n",
    "\n",
    "ret = True\n",
    "frame_number = -1\n",
    "vehicles = [2,3,5]\n",
    "\n",
    "# read the 10 first frames\n",
    "while ret:\n",
    "    frame_number += 1\n",
    "    ret, frame = video.read()\n",
    "\n",
    "    if ret and frame_number < 10:\n",
    "        \n",
    "        # vehicle detector\n",
    "        detections = coco_model.track(frame, persist=True)[0]\n",
    "        for detection in detections.boxes.data.tolist():\n",
    "            x1, y1, x2, y2, track_id, score, class_id = detection\n",
    "            if int(class_id) in vehicles and score > 0.5:\n",
    "                vehicle_bounding_boxes = []\n",
    "                vehicle_bounding_boxes.append([x1, y1, x2, y2, track_id, score])\n",
    "                for bbox in vehicle_bounding_boxes:\n",
    "                    print(bbox)\n",
    "                    roi = frame[int(y1):int(y2), int(x1):int(x2)]\n",
    "                    # debugging check if bbox lines up with detected vehicles (should be identical to save_crops() above\n",
    "                    # cv.imwrite(str(track_id) + '.jpg', roi)\n",
    "                    \n",
    "                    # license plate detector for region of interest\n",
    "                    license_plates = np_model(roi)[0]\n",
    "                    # check every bounding box for a license plate\n",
    "                    for license_plate in license_plates.boxes.data.tolist():\n",
    "                        plate_x1, plate_y1, plate_x2, plate_y2, plate_score, _ = license_plate\n",
    "                        # verify detections\n",
    "                        print(license_plate, 'track_id: ' + str(bbox[4]))\n",
    "                        plate = roi[int(plate_y1):int(plate_y2), int(plate_x1):int(plate_x2)]\n",
    "                        cv.imwrite(str(track_id) + '.jpg', plate)\n",
    "                        \n",
    "video.release()"
   ]
  }
 ],
 "metadata": {
  "kernelspec": {
   "display_name": ".venv",
   "language": "python",
   "name": "python3"
  },
  "language_info": {
   "codemirror_mode": {
    "name": "ipython",
    "version": 3
   },
   "file_extension": ".py",
   "mimetype": "text/x-python",
   "name": "python",
   "nbconvert_exporter": "python",
   "pygments_lexer": "ipython3",
   "version": "3.10.12"
  }
 },
 "nbformat": 4,
 "nbformat_minor": 5
}
