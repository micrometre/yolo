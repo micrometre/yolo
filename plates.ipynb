{
 "cells": [
  {
   "cell_type": "code",
   "execution_count": 4,
   "id": "b2096ef0",
   "metadata": {},
   "outputs": [],
   "source": [
    "import ast\n",
    "import cv2 as cv\n",
    "import easyocr\n",
    "from glob import glob\n",
    "import numpy as np\n",
    "import pandas as pd\n",
    "import string\n",
    "from ultralytics import YOLO"
   ]
  },
  {
   "cell_type": "code",
   "execution_count": 6,
   "id": "adde236a",
   "metadata": {},
   "outputs": [],
   "source": [
    "# regular pre-trained yolov8 model for car recognition\n",
    "# coco_model = YOLO('yolov8n.pt')\n",
    "coco_model = YOLO('models/yolov8s.pt')\n",
    "# yolov8 model trained to detect number plates\n",
    "np_model = YOLO('models/best.pt')"
   ]
  },
  {
   "cell_type": "code",
   "execution_count": 14,
   "id": "5ad1520a",
   "metadata": {},
   "outputs": [
    {
     "name": "stdout",
     "output_type": "stream",
     "text": [
      "['../videos/alprVideo1.mp4']\n"
     ]
    }
   ],
   "source": [
    "# read in test video paths\n",
    "videos = glob('../videos/*.mp4')\n",
    "videos = ['../videos/alprVideo1.mp4']\n",
    "print(videos)"
   ]
  },
  {
   "cell_type": "code",
   "execution_count": 18,
   "id": "9f82dba8",
   "metadata": {},
   "outputs": [],
   "source": [
    "# read video by index\n",
    "video = cv.VideoCapture(videos[0])\n",
    "\n",
    "ret = True\n",
    "frame_number = -1\n",
    "vehicles = [2,3,5]\n",
    "\n",
    "# read the 10 first frames\n",
    "while ret:\n",
    "    frame_number += 1\n",
    "    ret, frame = video.read()\n",
    "\n",
    "    if ret and frame_number < 10:\n",
    "        \n",
    "        # vehicle detector\n",
    "        detections = coco_model.track(frame, persist=True)[0]\n",
    "        for detection in detections.boxes.data.tolist():\n",
    "            x1, y1, x2, y2, track_id, score, class_id = detection\n",
    "            if int(class_id) in vehicles and score > 0.5:\n",
    "                vehicle_bounding_boxes = []\n",
    "                vehicle_bounding_boxes.append([x1, y1, x2, y2, track_id, score])\n",
    "                for bbox in vehicle_bounding_boxes:\n",
    "                    print(bbox)\n",
    "                    roi = frame[int(y1):int(y2), int(x1):int(x2)]\n",
    "                    # debugging check if bbox lines up with detected vehicles (should be identical to save_crops() above\n",
    "                    # cv.imwrite(str(track_id) + '.jpg', roi)\n",
    "                    \n",
    "                    # license plate detector for region of interest\n",
    "                    license_plates = np_model(roi)[0]\n",
    "                    # check every bounding box for a license plate\n",
    "                    for license_plate in license_plates.boxes.data.tolist():\n",
    "                        plate_x1, plate_y1, plate_x2, plate_y2, plate_score, _ = license_plate\n",
    "                        # verify detections\n",
    "                        print(license_plate, 'track_id: ' + str(bbox[4]))\n",
    "                        plate = roi[int(plate_y1):int(plate_y2), int(plate_x1):int(plate_x2)]\n",
    "                        cv.imwrite(str(track_id) + '.jpg', plate)\n",
    "                        \n",
    "video.release()"
   ]
  }
 ],
 "metadata": {
  "kernelspec": {
   "display_name": ".venv",
   "language": "python",
   "name": "python3"
  },
  "language_info": {
   "codemirror_mode": {
    "name": "ipython",
    "version": 3
   },
   "file_extension": ".py",
   "mimetype": "text/x-python",
   "name": "python",
   "nbconvert_exporter": "python",
   "pygments_lexer": "ipython3",
   "version": "3.10.12"
  }
 },
 "nbformat": 4,
 "nbformat_minor": 5
}
